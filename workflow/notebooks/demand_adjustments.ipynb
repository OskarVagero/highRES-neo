{
 "cells": [
  {
   "cell_type": "markdown",
   "id": "ff8f1c0f-68ac-4769-ac70-898aef6f7418",
   "metadata": {},
   "source": [
    "This notebook combines previous disaggregation of Norway to NUTS3 level (by Max) and the raw data from the [Interannual Demand Calculator](https://github.com/martacki/demand_calculator). The work originally done by Max should be documented and stored in a \"secure\" location."
   ]
  },
  {
   "cell_type": "code",
   "execution_count": null,
   "id": "008ea7dd-364e-4382-8158-3b048e9e510e",
   "metadata": {
    "tags": []
   },
   "outputs": [],
   "source": [
    "import pandas as pd"
   ]
  },
  {
   "cell_type": "code",
   "execution_count": null,
   "id": "a23c0777-a194-473d-b061-3b07d2cea739",
   "metadata": {
    "tags": []
   },
   "outputs": [],
   "source": [
    "ssb_to_nuts = {\n",
    "    'NO03' : 'NO081',\n",
    "    'NO30' : 'NO082',\n",
    "    'NO34' : 'NO020',\n",
    "    'NO38' : 'NO091',\n",
    "    'NO42' : 'NO092',\n",
    "    'NO11' : 'NO0A1',\n",
    "    'NO46' : 'NO0A2',\n",
    "    'NO15' : 'NO0A3',\n",
    "    'NO50' : 'NO060',\n",
    "    'NO18' : 'NO071',\n",
    "    'NO54' : 'NO074',\n",
    "}"
   ]
  },
  {
   "cell_type": "code",
   "execution_count": null,
   "id": "0c602a8a-cc3d-4006-a323-c57aa00fce18",
   "metadata": {
    "tags": []
   },
   "outputs": [],
   "source": [
    "processed_file = (\n",
    "    pd\n",
    "    .read_csv('/fp/projects01/ec85/models/oskar/shared_input/processed_europe_demand_1950-2021.csv',parse_dates = ['datetime'])\n",
    "    .set_index('datetime')\n",
    "    .rename(columns=ssb_to_nuts)\n",
    ")"
   ]
  },
  {
   "cell_type": "code",
   "execution_count": null,
   "id": "59c24252-909a-4d56-a63f-6b3c86ee98d4",
   "metadata": {
    "tags": []
   },
   "outputs": [],
   "source": [
    "raw_demand_file = (\n",
    "    pd.read_csv('/fp/projects01/ec85/models/oskar/shared_input/raw_demand_hourly_1950_2021.csv',parse_dates=['Unnamed: 0'])\n",
    ")"
   ]
  },
  {
   "cell_type": "code",
   "execution_count": null,
   "id": "cb56fff9-7e2f-419d-b573-68f711e64326",
   "metadata": {
    "tags": []
   },
   "outputs": [],
   "source": [
    "# Double demand for all countries and add the Norwegian disaggregation.\n",
    "demand_file = (\n",
    "    raw_demand_file\n",
    "    .rename(columns={'Unnamed: 0' : 'datetime'})\n",
    "    .set_index('datetime')\n",
    "    .mul(2)\n",
    "    .join(processed_file[[\"NO020\", \"NO060\", \"NO071\",\"NO074\", \"NO081\", \"NO082\",\"NO091\", \"NO092\", \"NO0A1\",\"NO0A2\", \"NO0A3\"]])\n",
    ")"
   ]
  },
  {
   "cell_type": "code",
   "execution_count": null,
   "id": "5ae6146a-7017-4f4d-81df-6a3a4d60045b",
   "metadata": {},
   "outputs": [],
   "source": [
    "norway = [\n",
    "    \"NO020\", \"NO060\", \"NO071\",\n",
    "    \"NO074\", \"NO081\", \"NO082\",\n",
    "    \"NO091\", \"NO092\", \"NO0A1\",\n",
    "    \"NO0A2\", \"NO0A3\"\n",
    "]"
   ]
  },
  {
   "cell_type": "code",
   "execution_count": null,
   "id": "b298b1ba-9e94-4187-a5e5-4ab62bd41dbb",
   "metadata": {
    "tags": []
   },
   "outputs": [],
   "source": [
    "aggregated_regions = [\n",
    "    \"NO020\", \"NO060\", \"NO071\",\n",
    "    \"NO074\", \"NO081\", \"NO082\",\n",
    "    \"NO091\", \"NO092\", \"NO0A1\",\n",
    "    \"NO0A2\", \"NO0A3\", \"SE\"\n",
    "    \"AT\", \"BE\", \"BG\",\n",
    "    \"CH\", \"CZ\", \"DE\",\n",
    "    \"DK\", \"EE\", \"ES\",\n",
    "    \"FI\", \"FR\", \"UK\",\n",
    "    \"GR\", \"HR\", \"HU\",\n",
    "    \"IE\", \"IT\", \"LT\",\n",
    "    \"LU\", \"LV\", \"NL\",\n",
    "    \"NO\", \"PL\",\"PT\",\n",
    "    \"RO\", \"SE\", \"SI\",\n",
    "    \"SK\",\n",
    "]"
   ]
  },
  {
   "cell_type": "code",
   "execution_count": null,
   "id": "a4f11e24-69ad-4c82-8840-f4ea0fe44010",
   "metadata": {},
   "outputs": [],
   "source": [
    "demand_file.query(\"datetime > '2009-12-31 23:00:00'\").query(\"datetime < '2011-01-01 00:00:00'\").SE"
   ]
  },
  {
   "cell_type": "code",
   "execution_count": null,
   "id": "5ca02bea-daef-45c2-b7b1-a5e528d820ed",
   "metadata": {
    "tags": []
   },
   "outputs": [],
   "source": [
    "# Sweden 298 TWh\n",
    "print(demand_file.query(\"datetime > '2009-12-31 23:00:00'\").query(\"datetime < '2011-01-01 00:00:00'\").SE.sum())\n",
    "# Norway 220 TWh\n",
    "print(demand_file.query(\"datetime > '2009-12-31 23:00:00'\").query(\"datetime < '2011-01-01 00:00:00'\").NO.sum())\n",
    "# Finland 131 TWh\n",
    "print(demand_file.query(\"datetime > '2009-12-31 23:00:00'\").query(\"datetime < '2011-01-01 00:00:00'\").FI.sum())"
   ]
  },
  {
   "cell_type": "code",
   "execution_count": null,
   "id": "7672db1f-3d44-4763-94bc-ab07ba2ba4a6",
   "metadata": {
    "tags": []
   },
   "outputs": [],
   "source": [
    "year_list = [1995,2010]\n",
    "\n",
    "for year in year_list:\n",
    "    start_string = str(year - 1) + '-12-31 23:00:00'\n",
    "    print(start_string)\n",
    "    end_string = str(year + 1) + '-01-01 00:00:00'\n",
    "    print(end_string)\n",
    "\n",
    "    finland = demand_file.FI.to_frame().query(\"datetime > @start_string\").query(\"datetime < @end_string\")\n",
    "    finland = finland.assign(new_demand = lambda x : (x.FI/x.FI.sum()).mul(131e6)).loc[:,'new_demand']\n",
    "    demand_file.loc[start_string : end_string,'FI'] = finland\n",
    "    \n",
    "    sweden = demand_file.SE.to_frame().query(\"datetime > @start_string\").query(\"datetime < @end_string\")\n",
    "    sweden = sweden.assign(new_demand = lambda x : (x.SE/x.SE.sum()).mul(298e6)).loc[:,'new_demand']\n",
    "    demand_file.loc[start_string : end_string,'SE'] = sweden\n"
   ]
  },
  {
   "cell_type": "code",
   "execution_count": null,
   "id": "70083da7-27da-4325-8fa4-810981d13d4e",
   "metadata": {
    "tags": []
   },
   "outputs": [],
   "source": [
    "# Sweden 298 TWh\n",
    "print(demand_file.query(\"datetime > '2009-12-31 23:00:00'\").query(\"datetime < '2011-01-01 00:00:00'\").SE.sum())\n",
    "# Norway 220 TWh\n",
    "print(demand_file.query(\"datetime > '2009-12-31 23:00:00'\").query(\"datetime < '2011-01-01 00:00:00'\").NO.sum())\n",
    "# Finland 131 TWh\n",
    "print(demand_file.query(\"datetime > '2009-12-31 23:00:00'\").query(\"datetime < '2011-01-01 00:00:00'\").FI.sum())"
   ]
  },
  {
   "cell_type": "code",
   "execution_count": null,
   "id": "42980bb9-e892-4635-afb2-aee8c0d14230",
   "metadata": {},
   "outputs": [],
   "source": [
    "\n",
    "year_list = [1995,2010]\n",
    "\n",
    "for year in year_list:\n",
    "    sum = 0\n",
    "    start_string = str(year - 1) + '-12-31 23:00:00'\n",
    "    print(start_string)\n",
    "    end_string = str(year + 1) + '-01-01 00:00:00'\n",
    "    print(end_string)\n",
    "    for county in norway:\n",
    "        share = (\n",
    "            processed_file\n",
    "            .query(\"datetime > @start_string\")\n",
    "            .query(\"datetime < @end_string\")\n",
    "            .sum()\n",
    "            .to_frame()\n",
    "            .rename(columns={0 : 'A'})\n",
    "            .assign(share = lambda x : x.A/x.A.sum())\n",
    "            .loc[county,['share']]\n",
    "            .iloc[0]\n",
    "        )\n",
    "    \n",
    "        temp_file = demand_file.loc[start_string : end_string,county].to_frame()\n",
    "        temp_file = temp_file.assign(new_demand = lambda x : (x[county]/x[county].sum()).mul(220e6).mul(share)).loc[:,'new_demand']\n",
    "        demand_file.loc[start_string : end_string,county] = temp_file\n",
    "        sum += temp_file.sum()\n",
    "    print(sum)"
   ]
  },
  {
   "cell_type": "code",
   "execution_count": null,
   "id": "ee1c9630-c16f-43db-9993-561c5fd03307",
   "metadata": {},
   "outputs": [],
   "source": [
    "norway"
   ]
  },
  {
   "cell_type": "code",
   "execution_count": null,
   "id": "52bc7dc3-cce8-4060-ad64-151575085dea",
   "metadata": {},
   "outputs": [],
   "source": [
    "# Norway 220 TWh\n",
    "\n",
    "(\n",
    "    demand_file\n",
    "    .query(\"datetime > '2009-12-31 23:00:00'\")\n",
    "    .query(\"datetime < '2011-01-01 00:00:00'\")\n",
    "    .loc[:,['NO020','NO060','NO071','NO074','NO081','NO082','NO091','NO092','NO0A1','NO0A2','NO0A3']]\n",
    "    .sum().sum()\n",
    ")"
   ]
  },
  {
   "cell_type": "code",
   "execution_count": null,
   "id": "bfa78aff-fe28-415e-965c-1e4c5a73cf93",
   "metadata": {},
   "outputs": [],
   "source": [
    "# Sweden 298 TWh\n",
    "print(demand_file.query(\"datetime > '2009-12-31 23:00:00'\").query(\"datetime < '2011-01-01 00:00:00'\").SE.sum())\n",
    "# Finland 131 TWh\n",
    "print(demand_file.query(\"datetime > '2009-12-31 23:00:00'\").query(\"datetime < '2011-01-01 00:00:00'\").FI.sum())"
   ]
  },
  {
   "cell_type": "code",
   "execution_count": null,
   "id": "4802aaa8-ec0f-4e20-8554-ef48c3c471c9",
   "metadata": {
    "tags": []
   },
   "outputs": [],
   "source": [
    "demand_file = demand_file.rename(columns={'GB' : 'UK'})"
   ]
  },
  {
   "cell_type": "code",
   "execution_count": null,
   "id": "eae29c72-044c-49f5-b4c3-add388be486b",
   "metadata": {
    "tags": []
   },
   "outputs": [],
   "source": [
    "demand_file.to_csv('../../resources/europe_demand_1950-2021_NEO.csv')"
   ]
  },
  {
   "cell_type": "code",
   "execution_count": null,
   "id": "21243a80-2027-4891-897e-26951be7a1bd",
   "metadata": {},
   "outputs": [],
   "source": []
  }
 ],
 "metadata": {
  "kernelspec": {
   "display_name": "Python 3 (ipykernel)",
   "language": "python",
   "name": "python3"
  },
  "language_info": {
   "codemirror_mode": {
    "name": "ipython",
    "version": 3
   },
   "file_extension": ".py",
   "mimetype": "text/x-python",
   "name": "python",
   "nbconvert_exporter": "python",
   "pygments_lexer": "ipython3",
   "version": "3.11.6"
  }
 },
 "nbformat": 4,
 "nbformat_minor": 5
}
